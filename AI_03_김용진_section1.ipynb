{
  "nbformat": 4,
  "nbformat_minor": 0,
  "metadata": {
    "colab": {
      "name": "AI_03_김용진_section1.ipynb",
      "provenance": []
    },
    "kernelspec": {
      "name": "python3",
      "display_name": "Python 3"
    },
    "language_info": {
      "name": "python"
    }
  },
  "cells": [
    {
      "cell_type": "code",
      "metadata": {
        "id": "Tx7vXELTSALA"
      },
      "source": [
        "import pandas as pd"
      ],
      "execution_count": 173,
      "outputs": []
    },
    {
      "cell_type": "markdown",
      "metadata": {
        "id": "5x19LTTXUKJJ"
      },
      "source": [
        "데이터 불러오기"
      ]
    },
    {
      "cell_type": "code",
      "metadata": {
        "id": "YWVpHOPSSoux"
      },
      "source": [
        "df = pd.read_csv('/content/vgames2.csv')\n",
        "first_column = df.columns[0]\n",
        "df = df.drop([first_column], axis=1)"
      ],
      "execution_count": 174,
      "outputs": []
    },
    {
      "cell_type": "markdown",
      "metadata": {
        "id": "6hiV7Z5wUApL"
      },
      "source": [
        "전처리 과정"
      ]
    },
    {
      "cell_type": "code",
      "metadata": {
        "colab": {
          "base_uri": "https://localhost:8080/"
        },
        "id": "6TyVgxgQTgDz",
        "outputId": "4da95faa-5e33-45fc-d0d9-2df093df7cfc"
      },
      "source": [
        "# 결측치 확인\n",
        "\n",
        "df.isnull().sum()"
      ],
      "execution_count": 175,
      "outputs": [
        {
          "output_type": "execute_result",
          "data": {
            "text/plain": [
              "Name             0\n",
              "Platform         0\n",
              "Year           271\n",
              "Genre           50\n",
              "Publisher       58\n",
              "NA_Sales         0\n",
              "EU_Sales         0\n",
              "JP_Sales         0\n",
              "Other_Sales      0\n",
              "dtype: int64"
            ]
          },
          "metadata": {
            "tags": []
          },
          "execution_count": 175
        }
      ]
    },
    {
      "cell_type": "code",
      "metadata": {
        "id": "IcfPqsd6Uev_"
      },
      "source": [
        "# 결측치를 '0' 으로 변경\n",
        "\n",
        "df1 = df.fillna(0)"
      ],
      "execution_count": 176,
      "outputs": []
    },
    {
      "cell_type": "code",
      "metadata": {
        "colab": {
          "base_uri": "https://localhost:8080/"
        },
        "id": "v_2hDMdHAWZ0",
        "outputId": "9d5e5971-14b7-4508-9744-319a3dce205a"
      },
      "source": [
        "# 중복행 검사\n",
        "\n",
        "df1.duplicated().sum()"
      ],
      "execution_count": 177,
      "outputs": [
        {
          "output_type": "execute_result",
          "data": {
            "text/plain": [
              "1"
            ]
          },
          "metadata": {
            "tags": []
          },
          "execution_count": 177
        }
      ]
    },
    {
      "cell_type": "code",
      "metadata": {
        "id": "JBqSeqMHAfFc"
      },
      "source": [
        "# 중복행 제거\n",
        "\n",
        "df1 = df1.drop_duplicates()"
      ],
      "execution_count": 178,
      "outputs": []
    },
    {
      "cell_type": "code",
      "metadata": {
        "colab": {
          "base_uri": "https://localhost:8080/"
        },
        "id": "LWk417irZalQ",
        "outputId": "aefa0737-d08f-4385-bdea-abdd0e24136d"
      },
      "source": [
        "# 데이터 타입\n",
        "\n",
        "df1.info()"
      ],
      "execution_count": 179,
      "outputs": [
        {
          "output_type": "stream",
          "text": [
            "<class 'pandas.core.frame.DataFrame'>\n",
            "Int64Index: 16597 entries, 0 to 16597\n",
            "Data columns (total 9 columns):\n",
            " #   Column       Non-Null Count  Dtype  \n",
            "---  ------       --------------  -----  \n",
            " 0   Name         16597 non-null  object \n",
            " 1   Platform     16597 non-null  object \n",
            " 2   Year         16597 non-null  float64\n",
            " 3   Genre        16597 non-null  object \n",
            " 4   Publisher    16597 non-null  object \n",
            " 5   NA_Sales     16597 non-null  object \n",
            " 6   EU_Sales     16597 non-null  object \n",
            " 7   JP_Sales     16597 non-null  object \n",
            " 8   Other_Sales  16597 non-null  object \n",
            "dtypes: float64(1), object(8)\n",
            "memory usage: 1.3+ MB\n"
          ],
          "name": "stdout"
        }
      ]
    },
    {
      "cell_type": "code",
      "metadata": {
        "colab": {
          "base_uri": "https://localhost:8080/",
          "height": 402
        },
        "id": "Mvpwl5obOT0z",
        "outputId": "ed88990e-e1cd-43ee-b6c5-03682bbcd62f"
      },
      "source": [
        "# 전처리 후 데이터\n",
        "\n",
        "df1"
      ],
      "execution_count": 180,
      "outputs": [
        {
          "output_type": "execute_result",
          "data": {
            "text/html": [
              "<div>\n",
              "<style scoped>\n",
              "    .dataframe tbody tr th:only-of-type {\n",
              "        vertical-align: middle;\n",
              "    }\n",
              "\n",
              "    .dataframe tbody tr th {\n",
              "        vertical-align: top;\n",
              "    }\n",
              "\n",
              "    .dataframe thead th {\n",
              "        text-align: right;\n",
              "    }\n",
              "</style>\n",
              "<table border=\"1\" class=\"dataframe\">\n",
              "  <thead>\n",
              "    <tr style=\"text-align: right;\">\n",
              "      <th></th>\n",
              "      <th>Name</th>\n",
              "      <th>Platform</th>\n",
              "      <th>Year</th>\n",
              "      <th>Genre</th>\n",
              "      <th>Publisher</th>\n",
              "      <th>NA_Sales</th>\n",
              "      <th>EU_Sales</th>\n",
              "      <th>JP_Sales</th>\n",
              "      <th>Other_Sales</th>\n",
              "    </tr>\n",
              "  </thead>\n",
              "  <tbody>\n",
              "    <tr>\n",
              "      <th>0</th>\n",
              "      <td>Candace Kane's Candy Factory</td>\n",
              "      <td>DS</td>\n",
              "      <td>2008.0</td>\n",
              "      <td>Action</td>\n",
              "      <td>Destineer</td>\n",
              "      <td>0.04</td>\n",
              "      <td>0</td>\n",
              "      <td>0</td>\n",
              "      <td>0</td>\n",
              "    </tr>\n",
              "    <tr>\n",
              "      <th>1</th>\n",
              "      <td>The Munchables</td>\n",
              "      <td>Wii</td>\n",
              "      <td>2009.0</td>\n",
              "      <td>Action</td>\n",
              "      <td>Namco Bandai Games</td>\n",
              "      <td>0.17</td>\n",
              "      <td>0</td>\n",
              "      <td>0</td>\n",
              "      <td>0.01</td>\n",
              "    </tr>\n",
              "    <tr>\n",
              "      <th>2</th>\n",
              "      <td>Otome wa Oanesama Boku ni Koi Shiteru Portable</td>\n",
              "      <td>PSP</td>\n",
              "      <td>2010.0</td>\n",
              "      <td>Adventure</td>\n",
              "      <td>Alchemist</td>\n",
              "      <td>0</td>\n",
              "      <td>0</td>\n",
              "      <td>0.02</td>\n",
              "      <td>0</td>\n",
              "    </tr>\n",
              "    <tr>\n",
              "      <th>3</th>\n",
              "      <td>Deal or No Deal: Special Edition</td>\n",
              "      <td>DS</td>\n",
              "      <td>2010.0</td>\n",
              "      <td>Misc</td>\n",
              "      <td>Zoo Games</td>\n",
              "      <td>0.04</td>\n",
              "      <td>0</td>\n",
              "      <td>0</td>\n",
              "      <td>0</td>\n",
              "    </tr>\n",
              "    <tr>\n",
              "      <th>4</th>\n",
              "      <td>Ben 10 Ultimate Alien: Cosmic Destruction</td>\n",
              "      <td>PS3</td>\n",
              "      <td>2010.0</td>\n",
              "      <td>Platform</td>\n",
              "      <td>D3Publisher</td>\n",
              "      <td>0.12</td>\n",
              "      <td>0.09</td>\n",
              "      <td>0</td>\n",
              "      <td>0.04</td>\n",
              "    </tr>\n",
              "    <tr>\n",
              "      <th>...</th>\n",
              "      <td>...</td>\n",
              "      <td>...</td>\n",
              "      <td>...</td>\n",
              "      <td>...</td>\n",
              "      <td>...</td>\n",
              "      <td>...</td>\n",
              "      <td>...</td>\n",
              "      <td>...</td>\n",
              "      <td>...</td>\n",
              "    </tr>\n",
              "    <tr>\n",
              "      <th>16593</th>\n",
              "      <td>Ice Age 2: The Meltdown</td>\n",
              "      <td>GC</td>\n",
              "      <td>2006.0</td>\n",
              "      <td>Platform</td>\n",
              "      <td>Vivendi Games</td>\n",
              "      <td>0.15</td>\n",
              "      <td>0.04</td>\n",
              "      <td>0</td>\n",
              "      <td>0.01</td>\n",
              "    </tr>\n",
              "    <tr>\n",
              "      <th>16594</th>\n",
              "      <td>Rainbow Islands: Revolution</td>\n",
              "      <td>PSP</td>\n",
              "      <td>2005.0</td>\n",
              "      <td>Action</td>\n",
              "      <td>Rising Star Games</td>\n",
              "      <td>0.01</td>\n",
              "      <td>0</td>\n",
              "      <td>0</td>\n",
              "      <td>0</td>\n",
              "    </tr>\n",
              "    <tr>\n",
              "      <th>16595</th>\n",
              "      <td>NBA 2K16</td>\n",
              "      <td>PS3</td>\n",
              "      <td>2015.0</td>\n",
              "      <td>Sports</td>\n",
              "      <td>Take-Two Interactive</td>\n",
              "      <td>0.44</td>\n",
              "      <td>0.19</td>\n",
              "      <td>0.03</td>\n",
              "      <td>0.13</td>\n",
              "    </tr>\n",
              "    <tr>\n",
              "      <th>16596</th>\n",
              "      <td>Toukiden: The Age of Demons</td>\n",
              "      <td>PSV</td>\n",
              "      <td>2013.0</td>\n",
              "      <td>Action</td>\n",
              "      <td>Tecmo Koei</td>\n",
              "      <td>0.05</td>\n",
              "      <td>0.05</td>\n",
              "      <td>0.25</td>\n",
              "      <td>0.03</td>\n",
              "    </tr>\n",
              "    <tr>\n",
              "      <th>16597</th>\n",
              "      <td>The King of Fighters '95</td>\n",
              "      <td>PS</td>\n",
              "      <td>1996.0</td>\n",
              "      <td>Fighting</td>\n",
              "      <td>Sony Computer Entertainment</td>\n",
              "      <td>0</td>\n",
              "      <td>0</td>\n",
              "      <td>0.16</td>\n",
              "      <td>0.01</td>\n",
              "    </tr>\n",
              "  </tbody>\n",
              "</table>\n",
              "<p>16597 rows × 9 columns</p>\n",
              "</div>"
            ],
            "text/plain": [
              "                                                 Name  ... Other_Sales\n",
              "0                        Candace Kane's Candy Factory  ...           0\n",
              "1                                      The Munchables  ...        0.01\n",
              "2      Otome wa Oanesama Boku ni Koi Shiteru Portable  ...           0\n",
              "3                    Deal or No Deal: Special Edition  ...           0\n",
              "4           Ben 10 Ultimate Alien: Cosmic Destruction  ...        0.04\n",
              "...                                               ...  ...         ...\n",
              "16593                         Ice Age 2: The Meltdown  ...        0.01\n",
              "16594                     Rainbow Islands: Revolution  ...           0\n",
              "16595                                        NBA 2K16  ...        0.13\n",
              "16596                     Toukiden: The Age of Demons  ...        0.03\n",
              "16597                        The King of Fighters '95  ...        0.01\n",
              "\n",
              "[16597 rows x 9 columns]"
            ]
          },
          "metadata": {
            "tags": []
          },
          "execution_count": 180
        }
      ]
    },
    {
      "cell_type": "markdown",
      "metadata": {
        "id": "u4WQ3z0GWQoy"
      },
      "source": [
        "Q1. 연도별 게임의 트렌드가 있을까?"
      ]
    },
    {
      "cell_type": "code",
      "metadata": {
        "id": "4dwfcjwfm5bC"
      },
      "source": [
        "# 1900년대 미만의 값 제거\n",
        "\n",
        "idx_nm_1 = df1[df1['Year'] <= 1900].index\n",
        "df2 = df1.drop(idx_nm_1)"
      ],
      "execution_count": 114,
      "outputs": []
    },
    {
      "cell_type": "code",
      "metadata": {
        "colab": {
          "base_uri": "https://localhost:8080/",
          "height": 1000
        },
        "id": "0uqz2UB0sqZq",
        "outputId": "75334f69-f749-4d00-d7ce-e78587ad73ff"
      },
      "source": [
        "# 연도별 가장 많은 장르\n",
        "\n",
        "df2 = df2.groupby('Year')['Genre'].agg(**{'most_common_value':lambda x:x.mode()}).reset_index()\n",
        "df2"
      ],
      "execution_count": 115,
      "outputs": [
        {
          "output_type": "execute_result",
          "data": {
            "text/html": [
              "<div>\n",
              "<style scoped>\n",
              "    .dataframe tbody tr th:only-of-type {\n",
              "        vertical-align: middle;\n",
              "    }\n",
              "\n",
              "    .dataframe tbody tr th {\n",
              "        vertical-align: top;\n",
              "    }\n",
              "\n",
              "    .dataframe thead th {\n",
              "        text-align: right;\n",
              "    }\n",
              "</style>\n",
              "<table border=\"1\" class=\"dataframe\">\n",
              "  <thead>\n",
              "    <tr style=\"text-align: right;\">\n",
              "      <th></th>\n",
              "      <th>Year</th>\n",
              "      <th>most_common_value</th>\n",
              "    </tr>\n",
              "  </thead>\n",
              "  <tbody>\n",
              "    <tr>\n",
              "      <th>0</th>\n",
              "      <td>1980.0</td>\n",
              "      <td>Misc</td>\n",
              "    </tr>\n",
              "    <tr>\n",
              "      <th>1</th>\n",
              "      <td>1981.0</td>\n",
              "      <td>Action</td>\n",
              "    </tr>\n",
              "    <tr>\n",
              "      <th>2</th>\n",
              "      <td>1982.0</td>\n",
              "      <td>Action</td>\n",
              "    </tr>\n",
              "    <tr>\n",
              "      <th>3</th>\n",
              "      <td>1983.0</td>\n",
              "      <td>Action</td>\n",
              "    </tr>\n",
              "    <tr>\n",
              "      <th>4</th>\n",
              "      <td>1984.0</td>\n",
              "      <td>[Puzzle, Racing, Shooter]</td>\n",
              "    </tr>\n",
              "    <tr>\n",
              "      <th>5</th>\n",
              "      <td>1985.0</td>\n",
              "      <td>[Platform, Puzzle]</td>\n",
              "    </tr>\n",
              "    <tr>\n",
              "      <th>6</th>\n",
              "      <td>1986.0</td>\n",
              "      <td>Action</td>\n",
              "    </tr>\n",
              "    <tr>\n",
              "      <th>7</th>\n",
              "      <td>1987.0</td>\n",
              "      <td>Sports</td>\n",
              "    </tr>\n",
              "    <tr>\n",
              "      <th>8</th>\n",
              "      <td>1988.0</td>\n",
              "      <td>Platform</td>\n",
              "    </tr>\n",
              "    <tr>\n",
              "      <th>9</th>\n",
              "      <td>1989.0</td>\n",
              "      <td>Puzzle</td>\n",
              "    </tr>\n",
              "    <tr>\n",
              "      <th>10</th>\n",
              "      <td>1990.0</td>\n",
              "      <td>[Action, Platform, Sports]</td>\n",
              "    </tr>\n",
              "    <tr>\n",
              "      <th>11</th>\n",
              "      <td>1991.0</td>\n",
              "      <td>Sports</td>\n",
              "    </tr>\n",
              "    <tr>\n",
              "      <th>12</th>\n",
              "      <td>1992.0</td>\n",
              "      <td>Fighting</td>\n",
              "    </tr>\n",
              "    <tr>\n",
              "      <th>13</th>\n",
              "      <td>1993.0</td>\n",
              "      <td>[Fighting, Platform]</td>\n",
              "    </tr>\n",
              "    <tr>\n",
              "      <th>14</th>\n",
              "      <td>1994.0</td>\n",
              "      <td>Sports</td>\n",
              "    </tr>\n",
              "    <tr>\n",
              "      <th>15</th>\n",
              "      <td>1995.0</td>\n",
              "      <td>Sports</td>\n",
              "    </tr>\n",
              "    <tr>\n",
              "      <th>16</th>\n",
              "      <td>1996.0</td>\n",
              "      <td>Sports</td>\n",
              "    </tr>\n",
              "    <tr>\n",
              "      <th>17</th>\n",
              "      <td>1997.0</td>\n",
              "      <td>Sports</td>\n",
              "    </tr>\n",
              "    <tr>\n",
              "      <th>18</th>\n",
              "      <td>1998.0</td>\n",
              "      <td>Sports</td>\n",
              "    </tr>\n",
              "    <tr>\n",
              "      <th>19</th>\n",
              "      <td>1999.0</td>\n",
              "      <td>Sports</td>\n",
              "    </tr>\n",
              "    <tr>\n",
              "      <th>20</th>\n",
              "      <td>2000.0</td>\n",
              "      <td>Sports</td>\n",
              "    </tr>\n",
              "    <tr>\n",
              "      <th>21</th>\n",
              "      <td>2001.0</td>\n",
              "      <td>Sports</td>\n",
              "    </tr>\n",
              "    <tr>\n",
              "      <th>22</th>\n",
              "      <td>2002.0</td>\n",
              "      <td>Sports</td>\n",
              "    </tr>\n",
              "    <tr>\n",
              "      <th>23</th>\n",
              "      <td>2003.0</td>\n",
              "      <td>Action</td>\n",
              "    </tr>\n",
              "    <tr>\n",
              "      <th>24</th>\n",
              "      <td>2004.0</td>\n",
              "      <td>Action</td>\n",
              "    </tr>\n",
              "    <tr>\n",
              "      <th>25</th>\n",
              "      <td>2005.0</td>\n",
              "      <td>Action</td>\n",
              "    </tr>\n",
              "    <tr>\n",
              "      <th>26</th>\n",
              "      <td>2006.0</td>\n",
              "      <td>Action</td>\n",
              "    </tr>\n",
              "    <tr>\n",
              "      <th>27</th>\n",
              "      <td>2007.0</td>\n",
              "      <td>Action</td>\n",
              "    </tr>\n",
              "    <tr>\n",
              "      <th>28</th>\n",
              "      <td>2008.0</td>\n",
              "      <td>Action</td>\n",
              "    </tr>\n",
              "    <tr>\n",
              "      <th>29</th>\n",
              "      <td>2009.0</td>\n",
              "      <td>Action</td>\n",
              "    </tr>\n",
              "    <tr>\n",
              "      <th>30</th>\n",
              "      <td>2010.0</td>\n",
              "      <td>Action</td>\n",
              "    </tr>\n",
              "    <tr>\n",
              "      <th>31</th>\n",
              "      <td>2011.0</td>\n",
              "      <td>Action</td>\n",
              "    </tr>\n",
              "    <tr>\n",
              "      <th>32</th>\n",
              "      <td>2012.0</td>\n",
              "      <td>Action</td>\n",
              "    </tr>\n",
              "    <tr>\n",
              "      <th>33</th>\n",
              "      <td>2013.0</td>\n",
              "      <td>Action</td>\n",
              "    </tr>\n",
              "    <tr>\n",
              "      <th>34</th>\n",
              "      <td>2014.0</td>\n",
              "      <td>Action</td>\n",
              "    </tr>\n",
              "    <tr>\n",
              "      <th>35</th>\n",
              "      <td>2015.0</td>\n",
              "      <td>Action</td>\n",
              "    </tr>\n",
              "    <tr>\n",
              "      <th>36</th>\n",
              "      <td>2016.0</td>\n",
              "      <td>Action</td>\n",
              "    </tr>\n",
              "    <tr>\n",
              "      <th>37</th>\n",
              "      <td>2017.0</td>\n",
              "      <td>Role-Playing</td>\n",
              "    </tr>\n",
              "    <tr>\n",
              "      <th>38</th>\n",
              "      <td>2020.0</td>\n",
              "      <td>Simulation</td>\n",
              "    </tr>\n",
              "  </tbody>\n",
              "</table>\n",
              "</div>"
            ],
            "text/plain": [
              "      Year           most_common_value\n",
              "0   1980.0                        Misc\n",
              "1   1981.0                      Action\n",
              "2   1982.0                      Action\n",
              "3   1983.0                      Action\n",
              "4   1984.0   [Puzzle, Racing, Shooter]\n",
              "5   1985.0          [Platform, Puzzle]\n",
              "6   1986.0                      Action\n",
              "7   1987.0                      Sports\n",
              "8   1988.0                    Platform\n",
              "9   1989.0                      Puzzle\n",
              "10  1990.0  [Action, Platform, Sports]\n",
              "11  1991.0                      Sports\n",
              "12  1992.0                    Fighting\n",
              "13  1993.0        [Fighting, Platform]\n",
              "14  1994.0                      Sports\n",
              "15  1995.0                      Sports\n",
              "16  1996.0                      Sports\n",
              "17  1997.0                      Sports\n",
              "18  1998.0                      Sports\n",
              "19  1999.0                      Sports\n",
              "20  2000.0                      Sports\n",
              "21  2001.0                      Sports\n",
              "22  2002.0                      Sports\n",
              "23  2003.0                      Action\n",
              "24  2004.0                      Action\n",
              "25  2005.0                      Action\n",
              "26  2006.0                      Action\n",
              "27  2007.0                      Action\n",
              "28  2008.0                      Action\n",
              "29  2009.0                      Action\n",
              "30  2010.0                      Action\n",
              "31  2011.0                      Action\n",
              "32  2012.0                      Action\n",
              "33  2013.0                      Action\n",
              "34  2014.0                      Action\n",
              "35  2015.0                      Action\n",
              "36  2016.0                      Action\n",
              "37  2017.0                Role-Playing\n",
              "38  2020.0                  Simulation"
            ]
          },
          "metadata": {
            "tags": []
          },
          "execution_count": 115
        }
      ]
    },
    {
      "cell_type": "markdown",
      "metadata": {
        "id": "XPjdKzwjV38w"
      },
      "source": [
        "A. 위 표를 통해 연도마다 게임의 트렌드가 다르다는 것을 알 수 있습니다."
      ]
    },
    {
      "cell_type": "markdown",
      "metadata": {
        "id": "U_umPShEWU1V"
      },
      "source": [
        "Q2. 지역에 따라서 선호하는 게임 장르가 다를까?\n",
        "\n",
        "Q3. 출고량이 높은 게임에 대한 분석 및 시각화 프로세스"
      ]
    },
    {
      "cell_type": "code",
      "metadata": {
        "id": "m041NzPNfX2e"
      },
      "source": [
        "# 지역에 따라서 선호하는 게임 장르가 다를까\n",
        "# 출고량이 높은 게임에 대한 분석 및 시각화 프로세스\n",
        "\n",
        "# 북미에서 출고량이 높은 게임 장르별 그룹화\n",
        "\n",
        "df1_1 = df1[(df1['NA_Sales'].str.contains('K')) | (df1['NA_Sales'].str.contains('M'))]\n",
        "df1_1 = df1_1.groupby(df1_1['Genre']).count()\n",
        "df1_1 = df1_1.iloc[:, 0:1]\n",
        "df1_1.columns = [\"NA_Sales\"]"
      ],
      "execution_count": 171,
      "outputs": []
    },
    {
      "cell_type": "code",
      "metadata": {
        "id": "IImm84Wpkkn6"
      },
      "source": [
        "# 유럽에서 출고량이 높은 게임 장르별 그룹화\n",
        "\n",
        "df1_2 = df1[(df1['EU_Sales'].str.contains('K')) | (df1['EU_Sales'].str.contains('M'))]\n",
        "df1_2 = df1_2.groupby(df1_2['Genre']).count()\n",
        "df1_2 = df1_2.iloc[:, 0:1]\n",
        "df1_2.columns = [\"EU_Sales\"]"
      ],
      "execution_count": 170,
      "outputs": []
    },
    {
      "cell_type": "code",
      "metadata": {
        "id": "mLLun08DlOsO"
      },
      "source": [
        "# 일본에서 출고량이 높은 게임 장르별 그룹화\n",
        "\n",
        "df1_3 = df1[(df1['JP_Sales'].str.contains('K')) | (df1['JP_Sales'].str.contains('M'))]\n",
        "df1_3 = df1_3.groupby(df1_3['Genre']).count()\n",
        "df1_3 = df1_3.iloc[:, 0:1]\n",
        "df1_3.columns = [\"JP_Sales\"]"
      ],
      "execution_count": 168,
      "outputs": []
    },
    {
      "cell_type": "code",
      "metadata": {
        "id": "lPTNfUlImB0q"
      },
      "source": [
        "# 그 외에서 출고량이 높은 게임 장르별 그룹화\n",
        "\n",
        "df1_4 = df1[(df1['Other_Sales'].str.contains('K')) | (df1['Other_Sales'].str.contains('M'))]\n",
        "df1_4 = df1_4.groupby(df1_4['Genre']).count()\n",
        "df1_4 = df1_4.iloc[:, 0:1]\n",
        "df1_4.columns = [\"Other_Sales\"]"
      ],
      "execution_count": 167,
      "outputs": []
    },
    {
      "cell_type": "code",
      "metadata": {
        "id": "xPWH2ouF5spi"
      },
      "source": [
        "# 그룹화 한 데이터를 하나로 합치고, '0'인 행을 삭제하고, 실수를 정수로 변환\n",
        "\n",
        "df1_5 = pd.concat([df1_1, df1_2, df1_3, df1_4], axis = 1)\n",
        "df1_5 = df1_5.drop([0])\n",
        "df1_5 = df1_5.astype(int)"
      ],
      "execution_count": 172,
      "outputs": []
    },
    {
      "cell_type": "code",
      "metadata": {
        "colab": {
          "base_uri": "https://localhost:8080/",
          "height": 402
        },
        "id": "G41IB9ZrTNXI",
        "outputId": "cd1e517c-3e6c-4563-cab5-ac09d43f6db7"
      },
      "source": [
        "# 각 장르별 게임수의 합을 계산하여 내림차순 정렬\n",
        "\n",
        "df1_5 = df1_5.assign(sum=lambda x: (x['EU_Sales'] + x['NA_Sales'] + x['JP_Sales'] + x['Other_Sales']))\n",
        "df1_5.sort_values(by=['sum'], axis=0, ascending=False)"
      ],
      "execution_count": 161,
      "outputs": [
        {
          "output_type": "execute_result",
          "data": {
            "text/html": [
              "<div>\n",
              "<style scoped>\n",
              "    .dataframe tbody tr th:only-of-type {\n",
              "        vertical-align: middle;\n",
              "    }\n",
              "\n",
              "    .dataframe tbody tr th {\n",
              "        vertical-align: top;\n",
              "    }\n",
              "\n",
              "    .dataframe thead th {\n",
              "        text-align: right;\n",
              "    }\n",
              "</style>\n",
              "<table border=\"1\" class=\"dataframe\">\n",
              "  <thead>\n",
              "    <tr style=\"text-align: right;\">\n",
              "      <th></th>\n",
              "      <th>NA_Sales</th>\n",
              "      <th>EU_Sales</th>\n",
              "      <th>JP_Sales</th>\n",
              "      <th>Other_Sales</th>\n",
              "      <th>sum</th>\n",
              "    </tr>\n",
              "  </thead>\n",
              "  <tbody>\n",
              "    <tr>\n",
              "      <th>Action</th>\n",
              "      <td>40</td>\n",
              "      <td>36</td>\n",
              "      <td>39</td>\n",
              "      <td>39</td>\n",
              "      <td>154</td>\n",
              "    </tr>\n",
              "    <tr>\n",
              "      <th>Sports</th>\n",
              "      <td>36</td>\n",
              "      <td>21</td>\n",
              "      <td>27</td>\n",
              "      <td>25</td>\n",
              "      <td>109</td>\n",
              "    </tr>\n",
              "    <tr>\n",
              "      <th>Misc</th>\n",
              "      <td>21</td>\n",
              "      <td>30</td>\n",
              "      <td>27</td>\n",
              "      <td>16</td>\n",
              "      <td>94</td>\n",
              "    </tr>\n",
              "    <tr>\n",
              "      <th>Role-Playing</th>\n",
              "      <td>14</td>\n",
              "      <td>15</td>\n",
              "      <td>21</td>\n",
              "      <td>24</td>\n",
              "      <td>74</td>\n",
              "    </tr>\n",
              "    <tr>\n",
              "      <th>Racing</th>\n",
              "      <td>19</td>\n",
              "      <td>15</td>\n",
              "      <td>18</td>\n",
              "      <td>10</td>\n",
              "      <td>62</td>\n",
              "    </tr>\n",
              "    <tr>\n",
              "      <th>Shooter</th>\n",
              "      <td>16</td>\n",
              "      <td>20</td>\n",
              "      <td>10</td>\n",
              "      <td>15</td>\n",
              "      <td>61</td>\n",
              "    </tr>\n",
              "    <tr>\n",
              "      <th>Platform</th>\n",
              "      <td>8</td>\n",
              "      <td>18</td>\n",
              "      <td>13</td>\n",
              "      <td>18</td>\n",
              "      <td>57</td>\n",
              "    </tr>\n",
              "    <tr>\n",
              "      <th>Adventure</th>\n",
              "      <td>9</td>\n",
              "      <td>13</td>\n",
              "      <td>10</td>\n",
              "      <td>13</td>\n",
              "      <td>45</td>\n",
              "    </tr>\n",
              "    <tr>\n",
              "      <th>Simulation</th>\n",
              "      <td>13</td>\n",
              "      <td>8</td>\n",
              "      <td>11</td>\n",
              "      <td>9</td>\n",
              "      <td>41</td>\n",
              "    </tr>\n",
              "    <tr>\n",
              "      <th>Strategy</th>\n",
              "      <td>15</td>\n",
              "      <td>7</td>\n",
              "      <td>5</td>\n",
              "      <td>13</td>\n",
              "      <td>40</td>\n",
              "    </tr>\n",
              "    <tr>\n",
              "      <th>Fighting</th>\n",
              "      <td>3</td>\n",
              "      <td>9</td>\n",
              "      <td>15</td>\n",
              "      <td>10</td>\n",
              "      <td>37</td>\n",
              "    </tr>\n",
              "    <tr>\n",
              "      <th>Puzzle</th>\n",
              "      <td>5</td>\n",
              "      <td>7</td>\n",
              "      <td>3</td>\n",
              "      <td>8</td>\n",
              "      <td>23</td>\n",
              "    </tr>\n",
              "  </tbody>\n",
              "</table>\n",
              "</div>"
            ],
            "text/plain": [
              "              NA_Sales  EU_Sales  JP_Sales  Other_Sales  sum\n",
              "Action              40        36        39           39  154\n",
              "Sports              36        21        27           25  109\n",
              "Misc                21        30        27           16   94\n",
              "Role-Playing        14        15        21           24   74\n",
              "Racing              19        15        18           10   62\n",
              "Shooter             16        20        10           15   61\n",
              "Platform             8        18        13           18   57\n",
              "Adventure            9        13        10           13   45\n",
              "Simulation          13         8        11            9   41\n",
              "Strategy            15         7         5           13   40\n",
              "Fighting             3         9        15           10   37\n",
              "Puzzle               5         7         3            8   23"
            ]
          },
          "metadata": {
            "tags": []
          },
          "execution_count": 161
        }
      ]
    },
    {
      "cell_type": "markdown",
      "metadata": {
        "id": "SMCHlBeuVus3"
      },
      "source": [
        "A. 위 표를 통해 지역마다 선호하는 게임 장르가 크게 다르지 않고,  Action 장르가 지금까지 가장 인기가 많았다고 볼 수 있습니다."
      ]
    },
    {
      "cell_type": "code",
      "metadata": {
        "id": "i9nQOWN9PIZv"
      },
      "source": [
        "# 북미에서 출고량이 높은 게임 제작사별 그룹화\n",
        "\n",
        "df3_1 = df1[(df1['NA_Sales'].str.contains('K')) | (df1['NA_Sales'].str.contains('M'))]\n",
        "df3_1 = df3_1.groupby(df3_1['Publisher']).count()\n",
        "df3_1 = df3_1.iloc[:, 0:1]\n",
        "df3_1.columns = [\"NA_Sales\"]"
      ],
      "execution_count": 181,
      "outputs": []
    },
    {
      "cell_type": "code",
      "metadata": {
        "id": "N8GDxWr3J8ht"
      },
      "source": [
        "# 유럽에서 출고량이 높은 게임 제작사별 그룹화\n",
        "\n",
        "df3_2 = df1[(df1['EU_Sales'].str.contains('K')) | (df1['EU_Sales'].str.contains('M'))]\n",
        "df3_2 = df3_2.groupby(df3_2['Publisher']).count()\n",
        "df3_2 = df3_2.iloc[:, 0:1]\n",
        "df3_2.columns = [\"EU_Sales\"]"
      ],
      "execution_count": 182,
      "outputs": []
    },
    {
      "cell_type": "code",
      "metadata": {
        "id": "xPVPvexGPSAt"
      },
      "source": [
        "# 일본에서 출고량이 높은 게임 제작사별 그룹화\n",
        "\n",
        "df3_3 = df1[(df1['JP_Sales'].str.contains('K')) | (df1['JP_Sales'].str.contains('M'))]\n",
        "df3_3 = df3_3.groupby(df3_3['Publisher']).count()\n",
        "df3_3 = df3_3.iloc[:, 0:1]\n",
        "df3_3.columns = [\"JP_Sales\"]"
      ],
      "execution_count": 164,
      "outputs": []
    },
    {
      "cell_type": "code",
      "metadata": {
        "id": "Tyz8M_S1PcGT"
      },
      "source": [
        "# 그 외에서 출고량이 높은 게임 제작사별 그룹화\n",
        "\n",
        "df3_4 = df1[(df1['Other_Sales'].str.contains('K')) | (df1['Other_Sales'].str.contains('M'))]\n",
        "df3_4 = df3_4.groupby(df3_4['Publisher']).count()\n",
        "df3_4 = df3_4.iloc[:, 0:1]\n",
        "df3_4.columns = [\"Other_Sales\"]"
      ],
      "execution_count": 165,
      "outputs": []
    },
    {
      "cell_type": "code",
      "metadata": {
        "id": "0F6grz8sPq6f"
      },
      "source": [
        "# 그룹화 한 데이터를 하나로 합치고, 결측치를 '0'으로 바꾸고, 실수를 정수로 변환\n",
        "\n",
        "df3_5 = pd.concat([df3_1, df3_2, df3_3, df3_4], axis = 1)\n",
        "df3_5 = df3_5.fillna(0)\n",
        "df3_5 = df3_5.astype(int)"
      ],
      "execution_count": 183,
      "outputs": []
    },
    {
      "cell_type": "code",
      "metadata": {
        "colab": {
          "base_uri": "https://localhost:8080/",
          "height": 402
        },
        "id": "ODOYWAw7Qeku",
        "outputId": "a2505c11-7333-4d34-dd69-1a1d6a83728a"
      },
      "source": [
        "# 각 제작사별 게임수의 합을 계산하여 내림차순 정렬\n",
        "\n",
        "df3_5 = df3_5.assign(sum=lambda x: (x['EU_Sales'] + x['NA_Sales'] + x['JP_Sales'] + x['Other_Sales']))\n",
        "df3_5.sort_values(by=['sum'], axis=0, ascending=False)"
      ],
      "execution_count": 184,
      "outputs": [
        {
          "output_type": "execute_result",
          "data": {
            "text/html": [
              "<div>\n",
              "<style scoped>\n",
              "    .dataframe tbody tr th:only-of-type {\n",
              "        vertical-align: middle;\n",
              "    }\n",
              "\n",
              "    .dataframe tbody tr th {\n",
              "        vertical-align: top;\n",
              "    }\n",
              "\n",
              "    .dataframe thead th {\n",
              "        text-align: right;\n",
              "    }\n",
              "</style>\n",
              "<table border=\"1\" class=\"dataframe\">\n",
              "  <thead>\n",
              "    <tr style=\"text-align: right;\">\n",
              "      <th></th>\n",
              "      <th>NA_Sales</th>\n",
              "      <th>EU_Sales</th>\n",
              "      <th>JP_Sales</th>\n",
              "      <th>Other_Sales</th>\n",
              "      <th>sum</th>\n",
              "    </tr>\n",
              "  </thead>\n",
              "  <tbody>\n",
              "    <tr>\n",
              "      <th>Electronic Arts</th>\n",
              "      <td>19</td>\n",
              "      <td>14</td>\n",
              "      <td>11</td>\n",
              "      <td>21</td>\n",
              "      <td>65</td>\n",
              "    </tr>\n",
              "    <tr>\n",
              "      <th>Ubisoft</th>\n",
              "      <td>9</td>\n",
              "      <td>11</td>\n",
              "      <td>9</td>\n",
              "      <td>14</td>\n",
              "      <td>43</td>\n",
              "    </tr>\n",
              "    <tr>\n",
              "      <th>Konami Digital Entertainment</th>\n",
              "      <td>11</td>\n",
              "      <td>14</td>\n",
              "      <td>8</td>\n",
              "      <td>10</td>\n",
              "      <td>43</td>\n",
              "    </tr>\n",
              "    <tr>\n",
              "      <th>Activision</th>\n",
              "      <td>10</td>\n",
              "      <td>14</td>\n",
              "      <td>10</td>\n",
              "      <td>8</td>\n",
              "      <td>42</td>\n",
              "    </tr>\n",
              "    <tr>\n",
              "      <th>Namco Bandai Games</th>\n",
              "      <td>10</td>\n",
              "      <td>10</td>\n",
              "      <td>9</td>\n",
              "      <td>11</td>\n",
              "      <td>40</td>\n",
              "    </tr>\n",
              "    <tr>\n",
              "      <th>...</th>\n",
              "      <td>...</td>\n",
              "      <td>...</td>\n",
              "      <td>...</td>\n",
              "      <td>...</td>\n",
              "      <td>...</td>\n",
              "    </tr>\n",
              "    <tr>\n",
              "      <th>Sting</th>\n",
              "      <td>0</td>\n",
              "      <td>1</td>\n",
              "      <td>0</td>\n",
              "      <td>0</td>\n",
              "      <td>1</td>\n",
              "    </tr>\n",
              "    <tr>\n",
              "      <th>SouthPeak Games</th>\n",
              "      <td>0</td>\n",
              "      <td>1</td>\n",
              "      <td>0</td>\n",
              "      <td>0</td>\n",
              "      <td>1</td>\n",
              "    </tr>\n",
              "    <tr>\n",
              "      <th>SCi</th>\n",
              "      <td>0</td>\n",
              "      <td>1</td>\n",
              "      <td>0</td>\n",
              "      <td>0</td>\n",
              "      <td>1</td>\n",
              "    </tr>\n",
              "    <tr>\n",
              "      <th>Nippon Columbia</th>\n",
              "      <td>0</td>\n",
              "      <td>1</td>\n",
              "      <td>0</td>\n",
              "      <td>0</td>\n",
              "      <td>1</td>\n",
              "    </tr>\n",
              "    <tr>\n",
              "      <th>Zoo Games</th>\n",
              "      <td>0</td>\n",
              "      <td>0</td>\n",
              "      <td>0</td>\n",
              "      <td>1</td>\n",
              "      <td>1</td>\n",
              "    </tr>\n",
              "  </tbody>\n",
              "</table>\n",
              "<p>169 rows × 5 columns</p>\n",
              "</div>"
            ],
            "text/plain": [
              "                              NA_Sales  EU_Sales  JP_Sales  Other_Sales  sum\n",
              "Electronic Arts                     19        14        11           21   65\n",
              "Ubisoft                              9        11         9           14   43\n",
              "Konami Digital Entertainment        11        14         8           10   43\n",
              "Activision                          10        14        10            8   42\n",
              "Namco Bandai Games                  10        10         9           11   40\n",
              "...                                ...       ...       ...          ...  ...\n",
              "Sting                                0         1         0            0    1\n",
              "SouthPeak Games                      0         1         0            0    1\n",
              "SCi                                  0         1         0            0    1\n",
              "Nippon Columbia                      0         1         0            0    1\n",
              "Zoo Games                            0         0         0            1    1\n",
              "\n",
              "[169 rows x 5 columns]"
            ]
          },
          "metadata": {
            "tags": []
          },
          "execution_count": 184
        }
      ]
    },
    {
      "cell_type": "markdown",
      "metadata": {
        "id": "UDVT_cbJXShX"
      },
      "source": [
        "위 표를 통해 인기있는 게임이 'Electronic Arts'  제작사를 통해 제일 많이 배급됐다는 것을 알 수 있었습니다. "
      ]
    },
    {
      "cell_type": "code",
      "metadata": {
        "id": "bTtbv_NQXwJa"
      },
      "source": [
        "# 북미에서 출고량이 높은 게임 제작사별 그룹화\n",
        "\n",
        "df3_1 = df1[(df1['NA_Sales'].str.contains('K')) | (df1['NA_Sales'].str.contains('M'))]\n",
        "df3_1 = df3_1.groupby(df3_1['Platform']).count()\n",
        "df3_1 = df3_1.iloc[:, 0:1]\n",
        "df3_1.columns = [\"NA_Sales\"]"
      ],
      "execution_count": 185,
      "outputs": []
    },
    {
      "cell_type": "code",
      "metadata": {
        "id": "lrgsCgI-X0k7"
      },
      "source": [
        "# 유럽에서 출고량이 높은 게임 제작사별 그룹화\n",
        "\n",
        "df3_2 = df1[(df1['EU_Sales'].str.contains('K')) | (df1['EU_Sales'].str.contains('M'))]\n",
        "df3_2 = df3_2.groupby(df3_2['Platform']).count()\n",
        "df3_2 = df3_2.iloc[:, 0:1]\n",
        "df3_2.columns = [\"EU_Sales\"]"
      ],
      "execution_count": 186,
      "outputs": []
    },
    {
      "cell_type": "code",
      "metadata": {
        "id": "XYj6qcezX1y3"
      },
      "source": [
        "# 일본에서 출고량이 높은 게임 제작사별 그룹화\n",
        "\n",
        "df3_3 = df1[(df1['JP_Sales'].str.contains('K')) | (df1['JP_Sales'].str.contains('M'))]\n",
        "df3_3 = df3_3.groupby(df3_3['Platform']).count()\n",
        "df3_3 = df3_3.iloc[:, 0:1]\n",
        "df3_3.columns = [\"JP_Sales\"]"
      ],
      "execution_count": 187,
      "outputs": []
    },
    {
      "cell_type": "code",
      "metadata": {
        "id": "QY9DKwnFX3MB"
      },
      "source": [
        "# 그 외에서 출고량이 높은 게임 제작사별 그룹화\n",
        "\n",
        "df3_4 = df1[(df1['Other_Sales'].str.contains('K')) | (df1['Other_Sales'].str.contains('M'))]\n",
        "df3_4 = df3_4.groupby(df3_4['Platform']).count()\n",
        "df3_4 = df3_4.iloc[:, 0:1]\n",
        "df3_4.columns = [\"Other_Sales\"]"
      ],
      "execution_count": 188,
      "outputs": []
    },
    {
      "cell_type": "code",
      "metadata": {
        "id": "XjzYjxWgX4jq"
      },
      "source": [
        "# 그룹화 한 데이터를 하나로 합치고, 결측치를 '0'으로 바꾸고, 실수를 정수로 변환\n",
        "\n",
        "df3_5 = pd.concat([df3_1, df3_2, df3_3, df3_4], axis = 1)\n",
        "df3_5 = df3_5.fillna(0)\n",
        "df3_5 = df3_5.astype(int)"
      ],
      "execution_count": 189,
      "outputs": []
    },
    {
      "cell_type": "code",
      "metadata": {
        "colab": {
          "base_uri": "https://localhost:8080/",
          "height": 758
        },
        "id": "d7PFSsb-X5mb",
        "outputId": "4957c70e-fb52-414e-99c4-c4e34ffbc485"
      },
      "source": [
        "# 각 제작사별 게임수의 합을 계산하여 내림차순 정렬\n",
        "\n",
        "df3_5 = df3_5.assign(sum=lambda x: (x['EU_Sales'] + x['NA_Sales'] + x['JP_Sales'] + x['Other_Sales']))\n",
        "df3_5.sort_values(by=['sum'], axis=0, ascending=False)"
      ],
      "execution_count": 190,
      "outputs": [
        {
          "output_type": "execute_result",
          "data": {
            "text/html": [
              "<div>\n",
              "<style scoped>\n",
              "    .dataframe tbody tr th:only-of-type {\n",
              "        vertical-align: middle;\n",
              "    }\n",
              "\n",
              "    .dataframe tbody tr th {\n",
              "        vertical-align: top;\n",
              "    }\n",
              "\n",
              "    .dataframe thead th {\n",
              "        text-align: right;\n",
              "    }\n",
              "</style>\n",
              "<table border=\"1\" class=\"dataframe\">\n",
              "  <thead>\n",
              "    <tr style=\"text-align: right;\">\n",
              "      <th></th>\n",
              "      <th>NA_Sales</th>\n",
              "      <th>EU_Sales</th>\n",
              "      <th>JP_Sales</th>\n",
              "      <th>Other_Sales</th>\n",
              "      <th>sum</th>\n",
              "    </tr>\n",
              "  </thead>\n",
              "  <tbody>\n",
              "    <tr>\n",
              "      <th>PS2</th>\n",
              "      <td>15</td>\n",
              "      <td>29</td>\n",
              "      <td>28</td>\n",
              "      <td>27</td>\n",
              "      <td>99</td>\n",
              "    </tr>\n",
              "    <tr>\n",
              "      <th>DS</th>\n",
              "      <td>25</td>\n",
              "      <td>25</td>\n",
              "      <td>26</td>\n",
              "      <td>20</td>\n",
              "      <td>96</td>\n",
              "    </tr>\n",
              "    <tr>\n",
              "      <th>PS</th>\n",
              "      <td>17</td>\n",
              "      <td>14</td>\n",
              "      <td>18</td>\n",
              "      <td>19</td>\n",
              "      <td>68</td>\n",
              "    </tr>\n",
              "    <tr>\n",
              "      <th>Wii</th>\n",
              "      <td>20</td>\n",
              "      <td>14</td>\n",
              "      <td>18</td>\n",
              "      <td>15</td>\n",
              "      <td>67</td>\n",
              "    </tr>\n",
              "    <tr>\n",
              "      <th>PS3</th>\n",
              "      <td>19</td>\n",
              "      <td>20</td>\n",
              "      <td>19</td>\n",
              "      <td>9</td>\n",
              "      <td>67</td>\n",
              "    </tr>\n",
              "    <tr>\n",
              "      <th>PSP</th>\n",
              "      <td>13</td>\n",
              "      <td>19</td>\n",
              "      <td>13</td>\n",
              "      <td>14</td>\n",
              "      <td>59</td>\n",
              "    </tr>\n",
              "    <tr>\n",
              "      <th>X360</th>\n",
              "      <td>14</td>\n",
              "      <td>11</td>\n",
              "      <td>13</td>\n",
              "      <td>19</td>\n",
              "      <td>57</td>\n",
              "    </tr>\n",
              "    <tr>\n",
              "      <th>PC</th>\n",
              "      <td>14</td>\n",
              "      <td>8</td>\n",
              "      <td>10</td>\n",
              "      <td>15</td>\n",
              "      <td>47</td>\n",
              "    </tr>\n",
              "    <tr>\n",
              "      <th>XB</th>\n",
              "      <td>9</td>\n",
              "      <td>9</td>\n",
              "      <td>10</td>\n",
              "      <td>12</td>\n",
              "      <td>40</td>\n",
              "    </tr>\n",
              "    <tr>\n",
              "      <th>GBA</th>\n",
              "      <td>11</td>\n",
              "      <td>10</td>\n",
              "      <td>9</td>\n",
              "      <td>7</td>\n",
              "      <td>37</td>\n",
              "    </tr>\n",
              "    <tr>\n",
              "      <th>GC</th>\n",
              "      <td>9</td>\n",
              "      <td>9</td>\n",
              "      <td>6</td>\n",
              "      <td>6</td>\n",
              "      <td>30</td>\n",
              "    </tr>\n",
              "    <tr>\n",
              "      <th>PS4</th>\n",
              "      <td>8</td>\n",
              "      <td>5</td>\n",
              "      <td>6</td>\n",
              "      <td>4</td>\n",
              "      <td>23</td>\n",
              "    </tr>\n",
              "    <tr>\n",
              "      <th>3DS</th>\n",
              "      <td>5</td>\n",
              "      <td>6</td>\n",
              "      <td>5</td>\n",
              "      <td>5</td>\n",
              "      <td>21</td>\n",
              "    </tr>\n",
              "    <tr>\n",
              "      <th>PSV</th>\n",
              "      <td>4</td>\n",
              "      <td>6</td>\n",
              "      <td>3</td>\n",
              "      <td>7</td>\n",
              "      <td>20</td>\n",
              "    </tr>\n",
              "    <tr>\n",
              "      <th>N64</th>\n",
              "      <td>3</td>\n",
              "      <td>7</td>\n",
              "      <td>1</td>\n",
              "      <td>2</td>\n",
              "      <td>13</td>\n",
              "    </tr>\n",
              "    <tr>\n",
              "      <th>SAT</th>\n",
              "      <td>4</td>\n",
              "      <td>0</td>\n",
              "      <td>4</td>\n",
              "      <td>5</td>\n",
              "      <td>13</td>\n",
              "    </tr>\n",
              "    <tr>\n",
              "      <th>SNES</th>\n",
              "      <td>3</td>\n",
              "      <td>3</td>\n",
              "      <td>2</td>\n",
              "      <td>3</td>\n",
              "      <td>11</td>\n",
              "    </tr>\n",
              "    <tr>\n",
              "      <th>XOne</th>\n",
              "      <td>3</td>\n",
              "      <td>1</td>\n",
              "      <td>1</td>\n",
              "      <td>1</td>\n",
              "      <td>6</td>\n",
              "    </tr>\n",
              "    <tr>\n",
              "      <th>2600</th>\n",
              "      <td>1</td>\n",
              "      <td>1</td>\n",
              "      <td>2</td>\n",
              "      <td>2</td>\n",
              "      <td>6</td>\n",
              "    </tr>\n",
              "    <tr>\n",
              "      <th>WiiU</th>\n",
              "      <td>1</td>\n",
              "      <td>2</td>\n",
              "      <td>2</td>\n",
              "      <td>1</td>\n",
              "      <td>6</td>\n",
              "    </tr>\n",
              "    <tr>\n",
              "      <th>NES</th>\n",
              "      <td>2</td>\n",
              "      <td>0</td>\n",
              "      <td>0</td>\n",
              "      <td>4</td>\n",
              "      <td>6</td>\n",
              "    </tr>\n",
              "    <tr>\n",
              "      <th>GB</th>\n",
              "      <td>0</td>\n",
              "      <td>0</td>\n",
              "      <td>2</td>\n",
              "      <td>1</td>\n",
              "      <td>3</td>\n",
              "    </tr>\n",
              "    <tr>\n",
              "      <th>DC</th>\n",
              "      <td>0</td>\n",
              "      <td>1</td>\n",
              "      <td>0</td>\n",
              "      <td>1</td>\n",
              "      <td>2</td>\n",
              "    </tr>\n",
              "    <tr>\n",
              "      <th>GEN</th>\n",
              "      <td>0</td>\n",
              "      <td>0</td>\n",
              "      <td>1</td>\n",
              "      <td>1</td>\n",
              "      <td>2</td>\n",
              "    </tr>\n",
              "  </tbody>\n",
              "</table>\n",
              "</div>"
            ],
            "text/plain": [
              "      NA_Sales  EU_Sales  JP_Sales  Other_Sales  sum\n",
              "PS2         15        29        28           27   99\n",
              "DS          25        25        26           20   96\n",
              "PS          17        14        18           19   68\n",
              "Wii         20        14        18           15   67\n",
              "PS3         19        20        19            9   67\n",
              "PSP         13        19        13           14   59\n",
              "X360        14        11        13           19   57\n",
              "PC          14         8        10           15   47\n",
              "XB           9         9        10           12   40\n",
              "GBA         11        10         9            7   37\n",
              "GC           9         9         6            6   30\n",
              "PS4          8         5         6            4   23\n",
              "3DS          5         6         5            5   21\n",
              "PSV          4         6         3            7   20\n",
              "N64          3         7         1            2   13\n",
              "SAT          4         0         4            5   13\n",
              "SNES         3         3         2            3   11\n",
              "XOne         3         1         1            1    6\n",
              "2600         1         1         2            2    6\n",
              "WiiU         1         2         2            1    6\n",
              "NES          2         0         0            4    6\n",
              "GB           0         0         2            1    3\n",
              "DC           0         1         0            1    2\n",
              "GEN          0         0         1            1    2"
            ]
          },
          "metadata": {
            "tags": []
          },
          "execution_count": 190
        }
      ]
    },
    {
      "cell_type": "markdown",
      "metadata": {
        "id": "a9Xt79ZQYHI6"
      },
      "source": [
        "위 표를 통해 'PS' 플랫폼을 사용하는 게임이 인기가 많았다는 것을 알 수 있습니다."
      ]
    },
    {
      "cell_type": "markdown",
      "metadata": {
        "id": "L227v7lgXMdF"
      },
      "source": [
        "Q. 다음 분기에 어떤 게임을 설계해야 할까?"
      ]
    },
    {
      "cell_type": "markdown",
      "metadata": {
        "id": "CD4m2intXQfL"
      },
      "source": [
        "A. 다음 분기에는 \n",
        "   PS의 최신형인 \"PSV\" 플랫폼을 이용하고,\n",
        "   Action 장르 게임을\n",
        "   Electronic Arts 제작사를 통해 배급하면 된다고 생각합니다.\n"
      ]
    }
  ]
}